{
  "cells": [
    {
      "cell_type": "code",
      "source": [
        "# Import project and set a symbolic link in /content\n",
        "\n",
        "import os\n",
        "from google.colab import drive\n",
        "drive.mount('/content/gdrive')\n",
        "\n",
        "# set up mount symlink\n",
        "\n",
        "DRIVE_PATH = '/content/gdrive/My\\ Drive/bayesian-privacy'\n",
        "DRIVE_PYTHON_PATH = DRIVE_PATH.replace('\\\\', '')\n",
        "if not os.path.exists(DRIVE_PYTHON_PATH):\n",
        "  %mkdir $DRIVE_PATH\n",
        "\n",
        "## the space in `My Drive` causes some issues,\n",
        "## make a symlink to avoid this\n",
        "SYM_PATH = '/content/bayesian-privacy'\n",
        "if not os.path.exists(SYM_PATH):\n",
        "  !ln -s $DRIVE_PATH $SYM_PATH\n",
        "\n",
        "## Move in the project directory\n",
        "%cd /content/bayesian-privacy\n",
        "!pwd"
      ],
      "metadata": {
        "colab": {
          "base_uri": "https://localhost:8080/"
        },
        "id": "1R3mt05exlux",
        "outputId": "fd06292f-ab40-4d23-b5ef-b568d4f7bf6c"
      },
      "execution_count": null,
      "outputs": [
        {
          "output_type": "stream",
          "name": "stdout",
          "text": [
            "Mounted at /content/gdrive\n",
            "/content/gdrive/My Drive/bayesian-differential-privacy-master\n",
            "/content/gdrive/My Drive/bayesian-differential-privacy-master\n"
          ]
        }
      ]
    },
    {
      "cell_type": "code",
      "execution_count": null,
      "metadata": {
        "id": "OkrzRM0nxk-O"
      },
      "outputs": [],
      "source": [
        "import argparse\n",
        "import itertools\n",
        "import numpy as np\n",
        "import pandas as pd\n",
        "import os\n",
        "import random\n",
        "import time\n",
        "\n",
        "import matplotlib.pyplot as plt\n",
        "%matplotlib inline"
      ]
    },
    {
      "cell_type": "code",
      "execution_count": null,
      "metadata": {
        "id": "8FcfwL9bxk-S"
      },
      "outputs": [],
      "source": [
        "import torch\n",
        "import torchvision\n",
        "import torchvision.transforms as transforms\n",
        "\n",
        "import torch.nn as nn\n",
        "import torch.nn.functional as func\n",
        "import torch.optim as optim\n",
        "import torch.backends.cudnn as cudnn\n",
        "\n",
        "from torch.optim.optimizer import required\n",
        "from torch.autograd import Variable\n",
        "from torch.autograd import Function\n",
        "\n",
        "from bayesian_privacy_accountant import BayesianPrivacyAccountant"
      ]
    },
    {
      "cell_type": "code",
      "execution_count": null,
      "metadata": {
        "colab": {
          "base_uri": "https://localhost:8080/"
        },
        "id": "lJ5mo3Gixk-T",
        "outputId": "ab7ec280-6c18-4f69-81aa-b720a207a972"
      },
      "outputs": [
        {
          "output_type": "stream",
          "name": "stdout",
          "text": [
            "Using CUDA: gpu_id = 0\n",
            "Random Seed:  8664\n"
          ]
        }
      ],
      "source": [
        "parser = argparse.ArgumentParser()\n",
        "parser.add_argument('--dataset', default='mnist', help='mnist | cifar10 | svhn')\n",
        "parser.add_argument('--dataroot', default='data', help='path to dataset')\n",
        "parser.add_argument('--batchSize', type=int, default=1024, help='input batch size')\n",
        "parser.add_argument('--imageSize', type=int, default=28, help='the height / width of the input image to network')\n",
        "parser.add_argument('--nClasses', type=int, default=10, help='number of labels (classes)')\n",
        "parser.add_argument('--nChannels', type=int, default=1, help='number of colour channels')\n",
        "parser.add_argument('--ndf', type=int, default=64, help='number of filters in CNN')\n",
        "parser.add_argument('--n_epochs', type=int, default=32, help='number of epochs to train for')\n",
        "parser.add_argument('--lr', type=float, default=0.001, help='learning rate, default=0.0002')\n",
        "parser.add_argument('--C', type=float, default=1.0, help='embedding L2-norm bound, default=1.0')\n",
        "parser.add_argument('--sigma', type=float, default=0.1, help='noise variance, default=0.5')\n",
        "parser.add_argument('--cuda', action='store_true', help='enables cuda')\n",
        "parser.add_argument('--ngpu', type=int, default=1, help='number of GPUs to use')\n",
        "parser.add_argument('--outf', default='output', help='folder to output images and model checkpoints')\n",
        "parser.add_argument('--manualSeed', type=int, default=8664, help='manual seed for reproducibility')\n",
        "\n",
        "opt, unknown = parser.parse_known_args()\n",
        "\n",
        "try:\n",
        "    os.makedirs(opt.outf)\n",
        "except OSError:\n",
        "    pass\n",
        "\n",
        "if torch.cuda.is_available():\n",
        "    opt.cuda = True\n",
        "    opt.ngpu = 1\n",
        "    gpu_id = torch.cuda.current_device()\n",
        "    print(\"Using CUDA: gpu_id = %d\" % gpu_id)\n",
        "    \n",
        "if opt.manualSeed is None:\n",
        "    opt.manualSeed = random.randint(1, 10000)\n",
        "print(\"Random Seed: \", opt.manualSeed)\n",
        "random.seed(opt.manualSeed)\n",
        "torch.manual_seed(opt.manualSeed)\n",
        "if opt.cuda:\n",
        "    torch.cuda.manual_seed_all(opt.manualSeed)"
      ]
    },
    {
      "cell_type": "code",
      "execution_count": null,
      "metadata": {
        "id": "f550dGAjxk-U"
      },
      "outputs": [],
      "source": [
        "class View(nn.Module):\n",
        "    \"\"\"\n",
        "        Implements a reshaping module.\n",
        "        Allows to reshape a tensor between NN layers.\n",
        "    \"\"\"\n",
        "    \n",
        "    def __init__(self, *shape):\n",
        "        super(View, self).__init__()\n",
        "        self.shape = shape\n",
        "    \n",
        "    def forward(self, input):\n",
        "        return input.view(self.shape)"
      ]
    },
    {
      "cell_type": "code",
      "execution_count": null,
      "metadata": {
        "id": "hj9zxAe8xk-U"
      },
      "outputs": [],
      "source": [
        "filterSize = 5\n",
        "w_out = 4\n",
        "h_out = 4\n",
        "\n",
        "class SimpleConvNet(nn.Module):\n",
        "    \n",
        "    def __init__(self):\n",
        "        super(SimpleConvNet, self).__init__()\n",
        "        \n",
        "        self.main = nn.Sequential(\n",
        "            nn.Conv2d(opt.nChannels, opt.ndf, filterSize),\n",
        "            nn.ReLU(inplace=True),\n",
        "            nn.MaxPool2d(2, 2),\n",
        "            nn.BatchNorm2d(opt.ndf),\n",
        "            nn.Conv2d(opt.ndf, opt.ndf, filterSize),\n",
        "            nn.ReLU(inplace=True),\n",
        "            nn.BatchNorm2d(opt.ndf),\n",
        "            nn.MaxPool2d(2, 2),\n",
        "            View(-1, opt.ndf * w_out * h_out),\n",
        "            #PrintLayer(\"View\"),\n",
        "            #View(-1, 784),\n",
        "            nn.Linear(opt.ndf * w_out * h_out, 384),\n",
        "            nn.SELU(inplace=True),\n",
        "            nn.Linear(384, 192),\n",
        "            nn.SELU(inplace=True),\n",
        "            nn.Linear(192, opt.nClasses),\n",
        "            #nn.Sigmoid()\n",
        "        )\n",
        "\n",
        "    def forward(self, x):\n",
        "        return self.main(x)"
      ]
    },
    {
      "cell_type": "code",
      "execution_count": null,
      "metadata": {
        "scrolled": true,
        "id": "72BDdBPmxk-V"
      },
      "outputs": [],
      "source": [
        "def test(testloader, net):\n",
        "    \"\"\"\n",
        "        Compute test accuracy.\n",
        "    \"\"\"\n",
        "    correct = 0.0\n",
        "    total = 0.0\n",
        "    \n",
        "    '''\n",
        "    if opt.cuda:\n",
        "        net = net.cuda()\n",
        "    '''\n",
        "    \n",
        "    for data in testloader:\n",
        "        images, labels = data\n",
        "        \n",
        "        if opt.cuda:\n",
        "            images = images.cuda(gpu_id)\n",
        "            labels = labels.cuda(gpu_id)\n",
        "            \n",
        "        outputs = net(Variable(images))\n",
        "        _, predicted = torch.max(outputs.data, 1)\n",
        "        #print(predicted.cpu().numpy())\n",
        "        #print(labels.cpu().numpy())\n",
        "        total += labels.size(0)\n",
        "        correct += (predicted == (labels.long().view(-1) % 10)).sum()\n",
        "        #print torch.cat([predicted.view(-1, 1), (labels.long() % 10)], dim=1)\n",
        "\n",
        "    print('Accuracy of the network on test images: %f %%' % (100 * float(correct) / total))\n",
        "    return 100 * float(correct) / total"
      ]
    },
    {
      "cell_type": "code",
      "execution_count": null,
      "metadata": {
        "id": "sgbJwR1jxk-W"
      },
      "outputs": [],
      "source": [
        "def sparsify_update(params, p, use_grad_field=True):\n",
        "    init = True\n",
        "    for param in params:\n",
        "        if param is not None:\n",
        "            if init:\n",
        "                idx = torch.zeros_like(param, dtype=torch.bool)\n",
        "                idx.bernoulli_(1 - p)\n",
        "            if use_grad_field:\n",
        "                if param.grad is not None:\n",
        "                    idx = torch.zeros_like(param, dtype=torch.bool)\n",
        "                    idx.bernoulli_(1 - p)\n",
        "                    param.grad.data[idx] = 0\n",
        "            else:\n",
        "                init = False\n",
        "                param.data[idx] = 0\n",
        "    return idx"
      ]
    },
    {
      "cell_type": "code",
      "execution_count": null,
      "metadata": {
        "id": "FbU5mj3Bxk-W"
      },
      "outputs": [],
      "source": [
        "def train(trainloader, student, n_epochs=25, lr=0.0001, accountant=None):\n",
        "    criterion = nn.CrossEntropyLoss(reduction='none')\n",
        "    #optimizer = optim.Adam(student.parameters(), lr=lr)\n",
        "    optimizer = optim.SGD(student.parameters(), lr=lr)\n",
        "    \n",
        "    if opt.cuda:\n",
        "        student = student.cuda(gpu_id)\n",
        "        criterion = criterion.cuda(gpu_id)\n",
        "    \n",
        "    accuracies = []\n",
        "    \n",
        "    num_batches = len(trainloader.dataset) / opt.batchSize + 1\n",
        "    sampling_prob = 0.1\n",
        "    max_grad_norm = opt.C\n",
        "    \n",
        "    for epoch in range(n_epochs):  # loop over the dataset multiple times\n",
        "        running_loss = 0.0\n",
        "        for i, data in enumerate(trainloader, 0):\n",
        "            # get the inputs\n",
        "            inputs, labels = data\n",
        "            \n",
        "            if opt.cuda:\n",
        "                inputs = inputs.cuda(gpu_id)\n",
        "                labels = labels.cuda(gpu_id)\n",
        "            \n",
        "            inputv = Variable(inputs)\n",
        "            labelv = Variable(labels.long().view(-1) % 10)\n",
        "            \n",
        "            batch_size = float(len(inputs))\n",
        "            \n",
        "            # zero the parameter gradients\n",
        "            optimizer.zero_grad()\n",
        "            \n",
        "            # forward + backward + optimize\n",
        "            outputs = student(inputv)\n",
        "            loss = criterion(outputs, labelv)\n",
        "            \n",
        "            #max_grad_norm = opt.C * 0.9**epoch\n",
        "            if accountant:\n",
        "                grads_est = []\n",
        "                num_subbatch = 8\n",
        "                for j in range(num_subbatch):\n",
        "                    grad_sample = torch.autograd.grad(\n",
        "                        loss[np.delete(range(int(batch_size)), j)].mean(), \n",
        "                        [p for p in student.parameters() if p.requires_grad], \n",
        "                        retain_graph=True\n",
        "                    )\n",
        "                    with torch.no_grad():\n",
        "                        grad_sample = torch.cat([g.view(-1) for g in grad_sample])\n",
        "                        grad_sample /= max(1.0, grad_sample.norm().item() / max_grad_norm)\n",
        "                        grads_est += [grad_sample]\n",
        "                with torch.no_grad():\n",
        "                    grads_est = torch.stack(grads_est)\n",
        "                    sparsify_update(grads_est, p=sampling_prob, use_grad_field=False)\n",
        "                \n",
        "            (loss.mean()).backward()\n",
        "            running_loss += loss.mean().item()\n",
        "            \n",
        "            if accountant:\n",
        "                with torch.no_grad():\n",
        "                    torch.nn.utils.clip_grad_norm_(student.parameters(), max_grad_norm)\n",
        "                    for group in optimizer.param_groups:\n",
        "                        for p in group['params']:\n",
        "                            if p.grad is not None:\n",
        "                                p.grad += torch.randn_like(p.grad) * (opt.sigma * max_grad_norm)\n",
        "                    sparsify_update(student.parameters(), p=sampling_prob)\n",
        "                \n",
        "            optimizer.step()\n",
        "            \n",
        "            if accountant:\n",
        "                with torch.no_grad():\n",
        "                    batch_size = float(len(inputs))\n",
        "                    q = batch_size / len(trainloader.dataset)\n",
        "                    # NOTE: \n",
        "                    # Using combinations within a set of gradients (like below)\n",
        "                    # does not actually produce samples from the correct distribution\n",
        "                    # (for that, we need to sample pairs of gradients independently).\n",
        "                    # However, the difference is not significant, and it speeds up computations.\n",
        "                    pairs = list(zip(*itertools.combinations(grads_est, 2)))\n",
        "                    accountant.accumulate(\n",
        "                        ldistr=(torch.stack(pairs[0]), opt.sigma*max_grad_norm),\n",
        "                        rdistr=(torch.stack(pairs[1]), opt.sigma*max_grad_norm),\n",
        "                        q=q, \n",
        "                        steps=1,\n",
        "                    )\n",
        "            \n",
        "        # print training stats every epoch\n",
        "        running_eps = accountant.get_privacy(target_delta=1e-5) if accountant else None\n",
        "        print(\"Epoch: %d/%d. Loss: %.3f. Privacy (𝜀,𝛿): %s\" %\n",
        "              (epoch + 1, n_epochs, running_loss / len(trainloader), running_eps))\n",
        "                \n",
        "        acc = test(testloader, student)\n",
        "        accuracies += [acc]\n",
        "        print(\"Test accuracy is %d %%\" % acc)\n",
        "\n",
        "    print('Finished Training')\n",
        "    return student.cpu(), accuracies"
      ]
    },
    {
      "cell_type": "code",
      "execution_count": null,
      "metadata": {
        "id": "zBJ-bmSixk-Y"
      },
      "outputs": [],
      "source": [
        "# transformations applied to data\n",
        "transform = transforms.Compose([transforms.ToTensor()])\n",
        "\n",
        "# switch datasets\n",
        "if opt.dataset == 'mnist':\n",
        "    trainset = torchvision.datasets.MNIST(root=opt.dataroot + os.sep + opt.dataset, train=True, download=True, transform=transform)\n",
        "    testset = torchvision.datasets.MNIST(root=opt.dataroot + os.sep + opt.dataset, train=False, download=True, transform=transform)\n",
        "elif opt.dataset == 'cifar10':\n",
        "    trainset = torchvision.datasets.CIFAR10(root=opt.dataroot + os.sep + opt.dataset, train=True, download=True, transform=transform)\n",
        "    testset = torchvision.datasets.CIFAR10(root=opt.dataroot + os.sep + opt.dataset, train=False, download=True, transform=transform)\n",
        "elif opt.dataset == 'svhn':\n",
        "    trainset = torchvision.datasets.SVHN(root=opt.dataroot + os.sep + opt.dataset, split='train', download=True, transform=transform)\n",
        "    testset = torchvision.datasets.SVHN(root=opt.dataroot + os.sep + opt.dataset, split='test', download=True, transform=transform)\n",
        "\n",
        "#val_size = 10000\n",
        "#valset = torch.utils.data.Subset(trainset, range(val_size))\n",
        "#trainset = torch.utils.data.Subset(trainset, range(val_size, len(trainset)))\n",
        "    \n",
        "# initialise data loaders\n",
        "trainloader = torch.utils.data.DataLoader(trainset, batch_size=opt.batchSize, shuffle=True, num_workers=2, drop_last=True)\n",
        "testloader = torch.utils.data.DataLoader(testset, batch_size=opt.batchSize, shuffle=True, num_workers=2)\n",
        "\n",
        "# names of classes\n",
        "classes = tuple(np.arange(10).astype(str))"
      ]
    },
    {
      "cell_type": "code",
      "execution_count": null,
      "metadata": {
        "colab": {
          "base_uri": "https://localhost:8080/"
        },
        "id": "jM5PNJytxk-Y",
        "outputId": "8a83133f-96cf-4612-fb8d-6a2a230d2072"
      },
      "outputs": [
        {
          "output_type": "stream",
          "name": "stdout",
          "text": [
            "Epoch: 1/32. Loss: 2.153. Privacy (𝜀,𝛿): (0.3603139622317727, 1e-05)\n",
            "Accuracy of the network on test images: 46.720000 %\n",
            "Test accuracy is 46 %\n",
            "Epoch: 2/32. Loss: 1.797. Privacy (𝜀,𝛿): (0.36099711163368264, 1e-05)\n",
            "Accuracy of the network on test images: 70.270000 %\n",
            "Test accuracy is 70 %\n",
            "Epoch: 3/32. Loss: 1.511. Privacy (𝜀,𝛿): (0.3618431923277266, 1e-05)\n",
            "Accuracy of the network on test images: 78.320000 %\n",
            "Test accuracy is 78 %\n",
            "Epoch: 4/32. Loss: 1.286. Privacy (𝜀,𝛿): (0.36288609873518374, 1e-05)\n",
            "Accuracy of the network on test images: 83.190000 %\n",
            "Test accuracy is 83 %\n",
            "Epoch: 5/32. Loss: 1.094. Privacy (𝜀,𝛿): (0.3641397125430758, 1e-05)\n",
            "Accuracy of the network on test images: 85.650000 %\n",
            "Test accuracy is 85 %\n",
            "Epoch: 6/32. Loss: 0.921. Privacy (𝜀,𝛿): (0.3655912125048158, 1e-05)\n",
            "Accuracy of the network on test images: 88.030000 %\n",
            "Test accuracy is 88 %\n",
            "Epoch: 7/32. Loss: 0.775. Privacy (𝜀,𝛿): (0.36756126237951814, 1e-05)\n",
            "Accuracy of the network on test images: 89.390000 %\n",
            "Test accuracy is 89 %\n",
            "Epoch: 8/32. Loss: 0.654. Privacy (𝜀,𝛿): (0.3699454028587821, 1e-05)\n",
            "Accuracy of the network on test images: 90.480000 %\n",
            "Test accuracy is 90 %\n",
            "Epoch: 9/32. Loss: 0.554. Privacy (𝜀,𝛿): (0.3733591843513721, 1e-05)\n",
            "Accuracy of the network on test images: 91.440000 %\n",
            "Test accuracy is 91 %\n",
            "Epoch: 10/32. Loss: 0.470. Privacy (𝜀,𝛿): (0.3773823137758222, 1e-05)\n",
            "Accuracy of the network on test images: 92.310000 %\n",
            "Test accuracy is 92 %\n",
            "Epoch: 11/32. Loss: 0.406. Privacy (𝜀,𝛿): (0.3825275183677642, 1e-05)\n",
            "Accuracy of the network on test images: 93.150000 %\n",
            "Test accuracy is 93 %\n",
            "Epoch: 12/32. Loss: 0.362. Privacy (𝜀,𝛿): (0.3889318364611675, 1e-05)\n",
            "Accuracy of the network on test images: 93.710000 %\n",
            "Test accuracy is 93 %\n",
            "Epoch: 13/32. Loss: 0.329. Privacy (𝜀,𝛿): (0.3949056657833584, 1e-05)\n",
            "Accuracy of the network on test images: 94.090000 %\n",
            "Test accuracy is 94 %\n",
            "Epoch: 14/32. Loss: 0.306. Privacy (𝜀,𝛿): (0.4006768231916834, 1e-05)\n",
            "Accuracy of the network on test images: 94.350000 %\n",
            "Test accuracy is 94 %\n",
            "Epoch: 15/32. Loss: 0.286. Privacy (𝜀,𝛿): (0.40651619872923034, 1e-05)\n",
            "Accuracy of the network on test images: 94.460000 %\n",
            "Test accuracy is 94 %\n",
            "Epoch: 16/32. Loss: 0.269. Privacy (𝜀,𝛿): (0.41296610536681344, 1e-05)\n",
            "Accuracy of the network on test images: 94.600000 %\n",
            "Test accuracy is 94 %\n",
            "Epoch: 17/32. Loss: 0.256. Privacy (𝜀,𝛿): (0.41747012200009304, 1e-05)\n",
            "Accuracy of the network on test images: 94.940000 %\n",
            "Test accuracy is 94 %\n",
            "Epoch: 18/32. Loss: 0.245. Privacy (𝜀,𝛿): (0.42262291737793456, 1e-05)\n",
            "Accuracy of the network on test images: 94.850000 %\n",
            "Test accuracy is 94 %\n",
            "Epoch: 19/32. Loss: 0.236. Privacy (𝜀,𝛿): (0.4299284430205341, 1e-05)\n",
            "Accuracy of the network on test images: 94.880000 %\n",
            "Test accuracy is 94 %\n",
            "Epoch: 20/32. Loss: 0.227. Privacy (𝜀,𝛿): (0.43563916715200124, 1e-05)\n",
            "Accuracy of the network on test images: 95.270000 %\n",
            "Test accuracy is 95 %\n",
            "Epoch: 21/32. Loss: 0.218. Privacy (𝜀,𝛿): (0.4411098659229539, 1e-05)\n",
            "Accuracy of the network on test images: 95.300000 %\n",
            "Test accuracy is 95 %\n",
            "Epoch: 22/32. Loss: 0.212. Privacy (𝜀,𝛿): (0.4496939744208293, 1e-05)\n",
            "Accuracy of the network on test images: 95.240000 %\n",
            "Test accuracy is 95 %\n",
            "Epoch: 23/32. Loss: 0.206. Privacy (𝜀,𝛿): (0.4555379596495739, 1e-05)\n",
            "Accuracy of the network on test images: 95.350000 %\n",
            "Test accuracy is 95 %\n",
            "Epoch: 24/32. Loss: 0.202. Privacy (𝜀,𝛿): (0.46212029069187666, 1e-05)\n",
            "Accuracy of the network on test images: 95.590000 %\n",
            "Test accuracy is 95 %\n",
            "Epoch: 25/32. Loss: 0.195. Privacy (𝜀,𝛿): (0.46928737764984285, 1e-05)\n",
            "Accuracy of the network on test images: 95.810000 %\n",
            "Test accuracy is 95 %\n",
            "Epoch: 26/32. Loss: 0.189. Privacy (𝜀,𝛿): (0.47582339336312257, 1e-05)\n",
            "Accuracy of the network on test images: 95.870000 %\n",
            "Test accuracy is 95 %\n",
            "Epoch: 27/32. Loss: 0.185. Privacy (𝜀,𝛿): (0.4837855559832063, 1e-05)\n",
            "Accuracy of the network on test images: 95.870000 %\n",
            "Test accuracy is 95 %\n",
            "Epoch: 28/32. Loss: 0.179. Privacy (𝜀,𝛿): (0.49151671235053374, 1e-05)\n",
            "Accuracy of the network on test images: 95.980000 %\n",
            "Test accuracy is 95 %\n",
            "Epoch: 29/32. Loss: 0.171. Privacy (𝜀,𝛿): (0.497546850292618, 1e-05)\n",
            "Accuracy of the network on test images: 96.020000 %\n",
            "Test accuracy is 96 %\n",
            "Epoch: 30/32. Loss: 0.166. Privacy (𝜀,𝛿): (0.5037664555305871, 1e-05)\n",
            "Accuracy of the network on test images: 96.100000 %\n",
            "Test accuracy is 96 %\n",
            "Epoch: 31/32. Loss: 0.164. Privacy (𝜀,𝛿): (0.5123952888452065, 1e-05)\n",
            "Accuracy of the network on test images: 96.120000 %\n",
            "Test accuracy is 96 %\n",
            "Epoch: 32/32. Loss: 0.160. Privacy (𝜀,𝛿): (0.5184525981368759, 1e-05)\n",
            "Accuracy of the network on test images: 96.230000 %\n",
            "Test accuracy is 96 %\n",
            "Finished Training\n"
          ]
        }
      ],
      "source": [
        "# train and test\n",
        "netS = SimpleConvNet()\n",
        "total_steps = opt.n_epochs * len(trainloader)\n",
        "bayes_accountant = BayesianPrivacyAccountant(powers=[2, 4, 8, 16, 32], total_steps=total_steps)\n",
        "netS, accs = train(trainloader, netS, lr=0.02, n_epochs=opt.n_epochs, accountant=bayes_accountant)"
      ]
    },
    {
      "cell_type": "code",
      "execution_count": null,
      "metadata": {
        "colab": {
          "base_uri": "https://localhost:8080/"
        },
        "id": "hJGvl4QBxk-Z",
        "outputId": "4ed583eb-6687-43eb-f9cb-7179808d9c25"
      },
      "outputs": [
        {
          "output_type": "stream",
          "name": "stdout",
          "text": [
            "Bayesian DP (𝜀,𝛿):  (0.8782959776431745, 1e-10)\n"
          ]
        }
      ],
      "source": [
        "print(\"Bayesian DP (𝜀,𝛿): \", bayes_accountant.get_privacy(target_delta=1e-10))"
      ]
    },
    {
      "cell_type": "code",
      "execution_count": null,
      "metadata": {
        "id": "48yq98i1xk-a"
      },
      "outputs": [],
      "source": [
        "from scipy.spatial.distance import pdist\n",
        "\n",
        "sampling_prob = 0.1\n",
        "loss_fn = nn.CrossEntropyLoss(reduction='none')\n",
        "\n",
        "netS.cuda(gpu_id)\n",
        "loss_fn.cuda(gpu_id)\n",
        "\n",
        "dists_train = []\n",
        "dists_test = []\n",
        "\n",
        "i = 0\n",
        "for inputs, labels in trainloader:\n",
        "    i += 1\n",
        "    if i > 8:\n",
        "        break\n",
        "    inputs = inputs.cuda(gpu_id)\n",
        "    labels = labels.cuda(gpu_id)\n",
        "    netS.zero_grad()\n",
        "    outputs = netS(inputs)\n",
        "    loss = loss_fn(outputs, labels)\n",
        "    \n",
        "    grads_est = []\n",
        "    num_subbatch = 100\n",
        "    for j in range(num_subbatch):\n",
        "        grad_sample = torch.autograd.grad(loss[np.delete(range(int(opt.batchSize)), j)].mean(), [p for p in netS.parameters() if p.requires_grad], retain_graph=True)\n",
        "        with torch.no_grad():\n",
        "            grad_sample = torch.cat([g.view(-1) for g in grad_sample])\n",
        "            grad_sample /= max(1.0, grad_sample.norm().item() / opt.C)\n",
        "            grads_est += [grad_sample]\n",
        "    with torch.no_grad():\n",
        "        grads_est = torch.stack(grads_est)\n",
        "        sparsify_update(grads_est, p=sampling_prob, use_grad_field=False)\n",
        "    q = opt.batchSize / len(trainloader.dataset)\n",
        "    dists_train += [pdist(grads_est.cpu())]\n",
        "    \n",
        "i = 0\n",
        "for inputs, labels in testloader:\n",
        "    i += 1\n",
        "    if i > 8:\n",
        "        break\n",
        "    inputs = inputs.cuda(gpu_id)\n",
        "    labels = labels.cuda(gpu_id)\n",
        "    netS.zero_grad()\n",
        "    outputs = netS(inputs)\n",
        "    loss = loss_fn(outputs, labels)\n",
        "    \n",
        "    grads_est = []\n",
        "    num_subbatch = 100\n",
        "    for j in range(num_subbatch):\n",
        "        grad_sample = torch.autograd.grad(loss[np.delete(range(int(opt.batchSize)), j)].mean(), [p for p in netS.parameters() if p.requires_grad], retain_graph=True)\n",
        "        with torch.no_grad():\n",
        "            grad_sample = torch.cat([g.view(-1) for g in grad_sample])\n",
        "            grad_sample /= max(1.0, grad_sample.norm().item() / opt.C)\n",
        "            grads_est += [grad_sample]\n",
        "    with torch.no_grad():\n",
        "        grads_est = torch.stack(grads_est)\n",
        "        sparsify_update(grads_est, p=sampling_prob, use_grad_field=False)\n",
        "    q = opt.batchSize / len(trainloader.dataset)\n",
        "    dists_test += [pdist(grads_est.cpu())]"
      ]
    },
    {
      "cell_type": "code",
      "execution_count": null,
      "metadata": {
        "colab": {
          "base_uri": "https://localhost:8080/"
        },
        "id": "Q5fZpnOUxk-a",
        "outputId": "855b049b-9f4b-43dd-8466-e069cd67eb9e"
      },
      "outputs": [
        {
          "output_type": "display_data",
          "data": {
            "text/plain": [
              "<Figure size 432x288 with 1 Axes>"
            ],
            "image/png": "[encoded data removed]"
          },
          "metadata": {
            "needs_background": "light"
          }
        }
      ],
      "source": [
        "from scipy.stats import ks_2samp, ttest_rel\n",
        "\n",
        "dists_train = np.stack(dists_train).squeeze()\n",
        "dists_test = np.stack(dists_test).squeeze()\n",
        "\n",
        "plt.hist(dists_train.flatten(), bins=np.arange(0, 0.02, 0.0005), label='Train', alpha=0.5)\n",
        "plt.hist(dists_test.flatten(), bins=np.arange(0, 0.02, 0.0005), label='Test', alpha=0.5)\n",
        "plt.legend()\n",
        "plt.xlabel(r'Distance')\n",
        "plt.ylabel(r'Number of samples')\n",
        "plt.title(r'Pairwise gradient distances distribution, MNIST')\n",
        "plt.savefig('grad_dist_histogram_mnist_2.pdf', format='pdf', bbox_inches='tight')"
      ]
    },
    {
      "cell_type": "code",
      "execution_count": null,
      "metadata": {
        "colab": {
          "base_uri": "https://localhost:8080/"
        },
        "id": "5AjKfPcdxk-a",
        "outputId": "4383902d-74a2-41bc-d536-365560c3ddb4"
      },
      "outputs": [
        {
          "output_type": "stream",
          "name": "stdout",
          "text": [
            "TtestResult(statistic=-2.2856676055972476, pvalue=0.022278970451873496, df=39599)\n",
            "Ttest_indResult(statistic=-2.2427026467582456, pvalue=0.024918750414032582)\n",
            "LeveneResult(statistic=20.801336716617335, pvalue=5.10235986310505e-06)\n"
          ]
        }
      ],
      "source": [
        "from scipy.stats import ttest_rel, ttest_ind, levene\n",
        "\n",
        "print(ttest_rel(dists_train.flatten(), dists_test.flatten()))\n",
        "print(ttest_ind(dists_train.flatten(), dists_test.flatten()))\n",
        "print(levene(dists_train.flatten(), dists_test.flatten()))"
      ]
    },
    {
      "cell_type": "code",
      "execution_count": null,
      "metadata": {
        "id": "ifIeF7Dhxk-b"
      },
      "outputs": [],
      "source": []
    }
  ],
  "metadata": {
    "kernelspec": {
      "display_name": "Python 3",
      "language": "python",
      "name": "python3"
    },
    "language_info": {
      "codemirror_mode": {
        "name": "ipython",
        "version": 3
      },
      "file_extension": ".py",
      "mimetype": "text/x-python",
      "name": "python",
      "nbconvert_exporter": "python",
      "pygments_lexer": "ipython3",
      "version": "3.6.9"
    },
    "colab": {
      "provenance": []
    },
    "accelerator": "GPU",
    "gpuClass": "standard"
  },
  "nbformat": 4,
  "nbformat_minor": 0
}