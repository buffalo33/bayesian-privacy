{
  "cells": [
    {
      "cell_type": "code",
      "execution_count": 1,
      "metadata": {
        "colab": {
          "base_uri": "https://localhost:8080/"
        },
        "id": "k627bpA1xSRG",
        "outputId": "484988db-d4de-4eb7-cef7-066131fc84df",
        "cellView": "form"
      },
      "outputs": [
        {
          "output_type": "stream",
          "name": "stdout",
          "text": [
            "Mounted at /content/gdrive\n",
            "/content/gdrive/My Drive/bayesian-privacy\n",
            "/content/gdrive/My Drive/bayesian-privacy\n"
          ]
        }
      ],
      "source": [
        "#@title Connect to Drive\n",
        "# Import project and set a symbolic link in /content\n",
        "\n",
        "import os\n",
        "from google.colab import drive\n",
        "drive.mount('/content/gdrive')\n",
        "\n",
        "# set up mount symlink\n",
        "\n",
        "DRIVE_PATH = '/content/gdrive/My\\ Drive/bayesian-privacy'\n",
        "DRIVE_PYTHON_PATH = DRIVE_PATH.replace('\\\\', '')\n",
        "if not os.path.exists(DRIVE_PYTHON_PATH):\n",
        "  %mkdir $DRIVE_PATH\n",
        "\n",
        "## the space in `My Drive` causes some issues,\n",
        "## make a symlink to avoid this\n",
        "SYM_PATH = '/content/bayesian-privacy'\n",
        "if not os.path.exists(SYM_PATH):\n",
        "  !ln -s $DRIVE_PATH $SYM_PATH\n",
        "\n",
        "## Move in the project directory\n",
        "%cd /content/bayesian-privacy\n",
        "!pwd"
      ]
    },
    {
      "cell_type": "code",
      "execution_count": 2,
      "metadata": {
        "id": "NyJg8xWlxRB8",
        "colab": {
          "base_uri": "https://localhost:8080/"
        },
        "cellView": "form",
        "outputId": "4dd91495-d812-4e69-d2a6-141174cc5d66"
      },
      "outputs": [
        {
          "output_type": "stream",
          "name": "stdout",
          "text": [
            "Device:  cuda:0\n"
          ]
        }
      ],
      "source": [
        "#@title All imports\n",
        "import argparse\n",
        "import itertools\n",
        "import numpy as np\n",
        "import pandas as pd\n",
        "import os\n",
        "import pickle\n",
        "import random\n",
        "import time\n",
        "from tqdm import tqdm\n",
        "import gc\n",
        "\n",
        "import matplotlib.pyplot as plt\n",
        "%matplotlib inline\n",
        "\n",
        "import torch\n",
        "import torchvision\n",
        "from torchvision.datasets import CIFAR10, CIFAR100\n",
        "import torchvision.transforms as transforms\n",
        "\n",
        "import torch.nn as nn\n",
        "import torch.optim as optim\n",
        "import torch.backends.cudnn as cudnn\n",
        "import torch.nn.functional as F\n",
        "from torch.utils.data import Dataset, DataLoader\n",
        "\n",
        "from torch.optim.optimizer import required\n",
        "from torch.autograd import Variable, Function\n",
        "\n",
        "from scipy.spatial.distance import pdist\n",
        "from scipy.stats import ttest_rel, ttest_ind, levene\n",
        "\n",
        "from bayesian_privacy_accountant import BayesianPrivacyAccountant\n",
        "\n",
        "device = torch.device(\"cuda:0\" if torch.cuda.is_available() else \"cpu\")\n",
        "print(\"Device: \", device)"
      ]
    },
    {
      "cell_type": "code",
      "source": [
        "dataroot = 'data'\n",
        "output_folder = 'output'\n",
        "\n",
        "try:\n",
        "    os.makedirs(output_folder)\n",
        "except OSError:\n",
        "    pass\n",
        "\n",
        "# For .py\n",
        "parser = argparse.ArgumentParser()\n",
        "parser.add_argument('--batch_size', type=int, default=32, help='input batch size')\n",
        "parser.add_argument('--image_size', type=int, default=32, help='the height / width of the input image to network')\n",
        "parser.add_argument('--channels', type=int, default=3, help='number of colour channels')\n",
        "parser.add_argument('--filters', type=int, default=64)\n",
        "parser.add_argument('--kernel_size', type=int, default=5)\n",
        "parser.add_argument('--epochs', type=int, default=10, help='number of epochs to train for')\n",
        "parser.add_argument('--lr', type=float, default=0.001, help='learning rate, default=0.0002')\n",
        "parser.add_argument('--C', type=float, default=1.0, help='embedding L2-norm bound, default=1.0')\n",
        "parser.add_argument('--sigma', type=float, default=0.8, help='noise variance, default=0.5')\n",
        "parser.add_argument('--cifar_type', type=int, default=2, help='number of labels (classes)')"
      ],
      "metadata": {
        "colab": {
          "base_uri": "https://localhost:8080/"
        },
        "id": "jYCkQ_9Q09ZF",
        "outputId": "3fbbd54e-e20f-4579-f7fc-60ad27f4bfab"
      },
      "execution_count": 3,
      "outputs": [
        {
          "output_type": "execute_result",
          "data": {
            "text/plain": [
              "_StoreAction(option_strings=['--cifar_type'], dest='cifar_type', nargs=None, const=None, default=2, type=<class 'int'>, choices=None, required=False, help='number of labels (classes)', metavar=None)"
            ]
          },
          "metadata": {},
          "execution_count": 3
        }
      ]
    },
    {
      "cell_type": "code",
      "source": [
        "# @title Load Datasets\n",
        "classes = {'plane':0, 'car':1, 'bird':2, 'cat':3,\n",
        "           'deer':4, 'dog':5, 'frog':6, 'horse':7, 'ship':8, 'truck':9}\n",
        "\n",
        "class CIFARN(CIFAR10):\n",
        "    def __init__(self, root, labels, train=True, download=True, transform=None):\n",
        "        super().__init__(root=root, train=train, download=download, transform=transform)\n",
        "        self.targets = np.array(self.targets)\n",
        "        self.data = np.array(self.data)\n",
        "        classes2keep = np.sum([self.targets==classes[label] for label in labels], axis=0).astype(bool)\n",
        "        self.data = self.data[classes2keep]\n",
        "        self.targets = self.targets[classes2keep]\n",
        "        for new_label, label in enumerate(sorted(set(self.targets))):\n",
        "            self.targets[self.targets==label] = new_label\n",
        "\n",
        "# transformations applied to data\n",
        "transform = transforms.Compose([transforms.Resize(size=(128, 128)),\n",
        "                                transforms.RandomHorizontalFlip(), \n",
        "                                transforms.ColorJitter(),\n",
        "                                transforms.ToTensor(),\n",
        "                                transforms.Normalize(mean=[0.485, 0.456, 0.406], std=[0.229, 0.224, 0.225])])\n",
        "transform_test = transforms.Compose([transforms.Resize(size=(128, 128)),\n",
        "                                     transforms.ToTensor(),\n",
        "                                     transforms.Normalize(mean=[0.485, 0.456, 0.406], std=[0.229, 0.224, 0.225])])"
      ],
      "metadata": {
        "cellView": "form",
        "id": "GplM010rOLZ9"
      },
      "execution_count": 13,
      "outputs": []
    },
    {
      "cell_type": "code",
      "source": [
        "def compute_dim_out(num_conv_layers, dim_in, kernel_size=3, stride=1, padding=0, dilation=1):\n",
        "    dim_out = dim_in\n",
        "    for i in range(num_conv_layers):\n",
        "        dim_out = int((dim_out + 2 * padding - dilation * (kernel_size - 1) - 1) / stride + 1)//2\n",
        "    return dim_out\n",
        "\n",
        "compute_dim_out(num_conv_layers=3, dim_in=32, kernel_size=3, stride=1, padding=1, dilation=1)"
      ],
      "metadata": {
        "colab": {
          "base_uri": "https://localhost:8080/"
        },
        "id": "FeUhgc-oEFO0",
        "outputId": "e2da5275-6cec-439b-e020-a01923d4de3d"
      },
      "execution_count": 6,
      "outputs": [
        {
          "output_type": "execute_result",
          "data": {
            "text/plain": [
              "4"
            ]
          },
          "metadata": {},
          "execution_count": 6
        }
      ]
    },
    {
      "cell_type": "code",
      "execution_count": 7,
      "metadata": {
        "id": "TPaI2TJExRB_",
        "cellView": "form"
      },
      "outputs": [],
      "source": [
        "#@title SimpleConvNet\n",
        "def ConvLayerBlock(in_channels):\n",
        "  return nn.Sequential(\n",
        "          nn.Conv2d(in_channels=in_channels, out_channels=in_channels*2, kernel_size=3, padding=1),\n",
        "          nn.BatchNorm2d(in_channels*2),\n",
        "          nn.ReLU(inplace=True),\n",
        "          nn.Conv2d(in_channels=in_channels*2, out_channels=in_channels*2, kernel_size=3, padding=1),\n",
        "          nn.ReLU(inplace=True),\n",
        "          nn.MaxPool2d(kernel_size=2, stride=2),\n",
        "          nn.Dropout2d(p=0.05),\n",
        "  )\n",
        "\n",
        "class SimpleConvNet(nn.Module):\n",
        "   \n",
        "    def __init__(self, opt, channels=3, filters=32):\n",
        "        \n",
        "        super(SimpleConvNet, self).__init__()\n",
        "\n",
        "        self.conv_layer = nn.Sequential(\n",
        "\n",
        "            # Conv Layer block 1\n",
        "            nn.Conv2d(in_channels=channels, out_channels=filters, kernel_size=3, padding=1),\n",
        "            nn.BatchNorm2d(32),\n",
        "            nn.ReLU(inplace=True),\n",
        "            nn.Conv2d(in_channels=filters, out_channels=filters*2, kernel_size=3, padding=1),\n",
        "            nn.ReLU(inplace=True),\n",
        "            nn.MaxPool2d(kernel_size=2, stride=2),\n",
        "\n",
        "            ConvLayerBlock(in_channels=filters*2),\n",
        "            ConvLayerBlock(in_channels=filters*4),\n",
        "        )\n",
        "\n",
        "        self.fc_layer = nn.Sequential(\n",
        "            nn.Dropout(p=0.1),\n",
        "            nn.Linear(4096, 1024),\n",
        "            nn.ReLU(inplace=True),\n",
        "            nn.Linear(1024, 512),\n",
        "            nn.ReLU(inplace=True),\n",
        "            nn.Dropout(p=0.1),\n",
        "            nn.Linear(512, opt.cifar_type)\n",
        "        )\n",
        "\n",
        "    def forward(self, x):\n",
        "        x = self.conv_layer(x)\n",
        "        x = x.view(x.size(0), -1)\n",
        "        x = self.fc_layer(x)\n",
        "        return x"
      ]
    },
    {
      "cell_type": "code",
      "execution_count": 8,
      "metadata": {
        "id": "M25yHW47xRCB",
        "scrolled": true
      },
      "outputs": [],
      "source": [
        "def test(testloader, net):\n",
        "    \"\"\"\n",
        "        Compute test accuracy.\n",
        "    \"\"\"\n",
        "    correct = 0.0\n",
        "    total = 0.0\n",
        "\n",
        "    for data in testloader:\n",
        "        images, labels = data\n",
        "    \n",
        "        images = images.to(device)\n",
        "        labels = labels.to(device)\n",
        "            \n",
        "        outputs = net(Variable(images))\n",
        "        _, predicted = torch.max(outputs.data, 1)\n",
        "        total += labels.size(0)\n",
        "        correct += (predicted == (labels.long().view(-1) % 100)).sum()\n",
        "\n",
        "    return 100 * float(correct) / total"
      ]
    },
    {
      "cell_type": "code",
      "execution_count": 9,
      "metadata": {
        "id": "r8k2nctDxRCC"
      },
      "outputs": [],
      "source": [
        "def sparsify_update(params, p, use_grad_field=True):\n",
        "    init = True\n",
        "    for param in params:\n",
        "        if param is not None:\n",
        "            if init:\n",
        "                idx = torch.zeros_like(param, dtype=torch.bool)\n",
        "                idx.bernoulli_(1 - p)\n",
        "            if use_grad_field:\n",
        "                if param.grad is not None:\n",
        "                    idx = torch.zeros_like(param, dtype=torch.bool)\n",
        "                    idx.bernoulli_(1 - p)\n",
        "                    param.grad.data[idx] = 0\n",
        "            else:\n",
        "                init = False\n",
        "                param.data[idx] = 0\n",
        "    return idx"
      ]
    },
    {
      "cell_type": "code",
      "execution_count": 10,
      "metadata": {
        "id": "3LkBSwcMxRCD"
      },
      "outputs": [],
      "source": [
        "def train(trainloader, testloader, student, opt, num_subbatch = 8, accountant=None):\n",
        "  \n",
        "    criterion = nn.CrossEntropyLoss(reduction='none')\n",
        "    optimizer = optim.Adam(student.parameters(), lr=opt.lr)\n",
        "    scheduler = torch.optim.lr_scheduler.CosineAnnealingLR(optimizer,\n",
        "                                              T_max=opt.epochs*len(trainloader))\n",
        "                                               \n",
        "    student = student.to(device)\n",
        "    criterion = criterion.to(device)\n",
        "    \n",
        "    accuracies = [0]\n",
        "    \n",
        "    sampling_prob = 1.0\n",
        "    \n",
        "    sigma = opt.sigma *  opt.C # ?\n",
        "    \n",
        "    with tqdm(range(opt.epochs)) as t:\n",
        "      for epoch in t:\n",
        "        gc.collect()\n",
        "        torch.cuda.empty_cache()\n",
        "        running_loss = 0.0\n",
        "        for i, (inputs, labels) in enumerate(trainloader):\n",
        "            # get the inputs\n",
        "            inputv = Variable(inputs.to(device))\n",
        "            labelv = Variable(labels.to(device))\n",
        "\n",
        "            batch_size = float(len(inputs))\n",
        "                        \n",
        "            optimizer.zero_grad()\n",
        "            \n",
        "            outputs = student(inputv)\n",
        "            loss = criterion(outputs, labelv)\n",
        "            \n",
        "            if accountant:\n",
        "                grads_est = []\n",
        "                for j in range(num_subbatch):\n",
        "                    grad_sample = torch.autograd.grad(loss[np.delete(range(int(batch_size)), j)].mean(), [p for p in student.parameters() if p.requires_grad], retain_graph=True)\n",
        "                    with torch.no_grad():\n",
        "                        grad_sample = torch.cat([g.view(-1) for g in grad_sample])\n",
        "                        #grad_sample /= max(1.0, grad_sample.norm().item() / C)\n",
        "                        grads_est += [grad_sample]\n",
        "                with torch.no_grad():\n",
        "                    sparsify_update(grads_est, p=sampling_prob, use_grad_field=False)\n",
        "                    \n",
        "            (loss.mean()).backward()\n",
        "            running_loss += loss.mean().item()\n",
        "            \n",
        "            if accountant:\n",
        "                #torch.nn.utils.clip_grad_norm_(student.parameters(), C)\n",
        "                for group in optimizer.param_groups:\n",
        "                    for p in group['params']:\n",
        "                        if p.grad is not None:\n",
        "                            p.grad.data += torch.randn_like(p.grad) * sigma #* C\n",
        "                sparsify_update(student.parameters(), p=sampling_prob)\n",
        "            \n",
        "            optimizer.step()\n",
        "            scheduler.step()\n",
        "\n",
        "            if accountant:\n",
        "                with torch.no_grad():\n",
        "                    # NOTE: \n",
        "                    # Using combinations within a set of gradients (like below)\n",
        "                    # does not actually produce samples from the correct distribution\n",
        "                    # (for that, we need to sample pairs of gradients independently).\n",
        "                    # However, the difference is not significant, and it speeds up computations.\n",
        "                    grad_pairs = list(zip(*itertools.combinations(grads_est, 2)))\n",
        "                    accountant.accumulate(\n",
        "                        ldistr=(torch.stack(grad_pairs[0]), sigma*opt.C),\n",
        "                        rdistr=(torch.stack(grad_pairs[1]), sigma*opt.C),\n",
        "                        q=batch_size / len(trainloader.dataset), \n",
        "                        steps=1,\n",
        "                    )\n",
        "                    running_eps = accountant.get_privacy(target_delta=1e-5)\n",
        "            else:\n",
        "              running_eps = 0\n",
        "            t.set_postfix(loss=loss.mean().item(),\n",
        "                          Acc=accuracies[-1], p={'(𝜀,𝛿)':running_eps},\n",
        "                          lr=scheduler.get_last_lr(),\n",
        "                          )\n",
        "\n",
        "        student.eval()\n",
        "        with torch.no_grad():\n",
        "            accuracies += [test(testloader, student)]\n",
        "        student.train()\n",
        "\n",
        "        if (epoch + 1) % max(opt.epochs//100, 1) == 0:\n",
        "            torch.save(student.state_dict(), '%s/private_net_epoch_%d.pth' % (output_folder, epoch + 1))\n",
        "            pickle.dump(accountant, open('%s/bayes_accountant_epoch_%d' % (output_folder, epoch + 1), 'wb'))\n",
        "\n",
        "    print(f'Final accuracy : {accuracies[-1]}')\n",
        "\n",
        "    return student.cpu(), accuracies"
      ]
    },
    {
      "cell_type": "code",
      "execution_count": 25,
      "metadata": {
        "colab": {
          "base_uri": "https://localhost:8080/"
        },
        "id": "HKJovbYGxRCG",
        "scrolled": true,
        "outputId": "bac67696-145d-4676-a492-f591c44bf612"
      },
      "outputs": [
        {
          "output_type": "stream",
          "name": "stdout",
          "text": [
            "VGG(\n",
            "  (features): Sequential(\n",
            "    (0): Conv2d(3, 64, kernel_size=(3, 3), stride=(1, 1), padding=(1, 1))\n",
            "    (1): ReLU(inplace=True)\n",
            "    (2): Conv2d(64, 64, kernel_size=(3, 3), stride=(1, 1), padding=(1, 1))\n",
            "    (3): ReLU(inplace=True)\n",
            "    (4): MaxPool2d(kernel_size=2, stride=2, padding=0, dilation=1, ceil_mode=False)\n",
            "    (5): Conv2d(64, 128, kernel_size=(3, 3), stride=(1, 1), padding=(1, 1))\n",
            "    (6): ReLU(inplace=True)\n",
            "    (7): Conv2d(128, 128, kernel_size=(3, 3), stride=(1, 1), padding=(1, 1))\n",
            "    (8): ReLU(inplace=True)\n",
            "    (9): MaxPool2d(kernel_size=2, stride=2, padding=0, dilation=1, ceil_mode=False)\n",
            "    (10): Conv2d(128, 256, kernel_size=(3, 3), stride=(1, 1), padding=(1, 1))\n",
            "    (11): ReLU(inplace=True)\n",
            "    (12): Conv2d(256, 256, kernel_size=(3, 3), stride=(1, 1), padding=(1, 1))\n",
            "    (13): ReLU(inplace=True)\n",
            "    (14): Conv2d(256, 256, kernel_size=(3, 3), stride=(1, 1), padding=(1, 1))\n",
            "    (15): ReLU(inplace=True)\n",
            "    (16): MaxPool2d(kernel_size=2, stride=2, padding=0, dilation=1, ceil_mode=False)\n",
            "    (17): Conv2d(256, 512, kernel_size=(3, 3), stride=(1, 1), padding=(1, 1))\n",
            "    (18): ReLU(inplace=True)\n",
            "    (19): Conv2d(512, 512, kernel_size=(3, 3), stride=(1, 1), padding=(1, 1))\n",
            "    (20): ReLU(inplace=True)\n",
            "    (21): Conv2d(512, 512, kernel_size=(3, 3), stride=(1, 1), padding=(1, 1))\n",
            "    (22): ReLU(inplace=True)\n",
            "    (23): MaxPool2d(kernel_size=2, stride=2, padding=0, dilation=1, ceil_mode=False)\n",
            "    (24): Conv2d(512, 512, kernel_size=(3, 3), stride=(1, 1), padding=(1, 1))\n",
            "    (25): ReLU(inplace=True)\n",
            "    (26): Conv2d(512, 512, kernel_size=(3, 3), stride=(1, 1), padding=(1, 1))\n",
            "    (27): ReLU(inplace=True)\n",
            "    (28): Conv2d(512, 512, kernel_size=(3, 3), stride=(1, 1), padding=(1, 1))\n",
            "    (29): ReLU(inplace=True)\n",
            "    (30): MaxPool2d(kernel_size=2, stride=2, padding=0, dilation=1, ceil_mode=False)\n",
            "  )\n",
            "  (avgpool): AdaptiveAvgPool2d(output_size=(7, 7))\n",
            "  (classifier): Sequential(\n",
            "    (0): Linear(in_features=25088, out_features=4096, bias=True)\n",
            "    (1): ReLU(inplace=True)\n",
            "    (2): Dropout(p=0.5, inplace=False)\n",
            "    (3): Linear(in_features=4096, out_features=4096, bias=True)\n",
            "    (4): ReLU(inplace=True)\n",
            "    (5): Dropout(p=0.5, inplace=False)\n",
            "    (6): Linear(in_features=4096, out_features=10, bias=True)\n",
            "  )\n",
            ")\n"
          ]
        }
      ],
      "source": [
        "# train GAN and measure time\n",
        "def netChoice(opt):\n",
        "    if opt.load_vgg16:\n",
        "        netS = torchvision.models.vgg16(weights='DEFAULT')\n",
        "        netS.train()\n",
        "        # Disable updates for feature extraction layers\n",
        "        for p in netS.named_parameters():\n",
        "            p[1].requires_grad = False\n",
        "        for l in [p for p in netS.features.parameters()][-3:]:\n",
        "          l.requires_grad = True\n",
        "        netS.avgpool.requires_grad = True\n",
        "        for l in netS.classifier:\n",
        "          l.requires_grad = True\n",
        "        netS.classifier[-1] = nn.Linear(4096, opt.cifar_type)\n",
        "        netS.aux_logits = False\n",
        "        return netS\n",
        "\n",
        "    else:  \n",
        "        return SimpleConvNet(opt)"
      ]
    },
    {
      "cell_type": "code",
      "source": [
        "class Config:\n",
        "    def __init__(self):\n",
        "        # Training\n",
        "        self.batch_size = 1024//2\n",
        "        self.epochs = 30\n",
        "        self.lr = .001\n",
        "\n",
        "        # BDP\n",
        "        self.C = 1\n",
        "        self.sigma = 1\n",
        "        self.power = [2,4,8,16,32]\n",
        "\n",
        "        # Dataset/model\n",
        "        self.cifar_type = 10 #[2, 10, 100] \n",
        "        self.load_vgg16 = True\n",
        "\n",
        "opt = Config()\n",
        "\n",
        "if opt.cifar_type == 100:\n",
        "    trainset = CIFAR100(root=dataroot + '/cifar10', train=True, download=True, transform=transform)\n",
        "    testset = CIFAR100(root=dataroot + '/cifar10', train=False, download=True, transform=transform_test)\n",
        "    opt.cifar_type = 100\n",
        "else:\n",
        "    #labels = ['bird', 'cat', 'deer', 'dog', 'frog', 'horse'] # animals\n",
        "    #labels = ['plane', 'car', 'ship', 'truck']               # vehicules\n",
        "    labels = ['car', 'cat']\n",
        "    #labels = ['plane', 'car', 'bird', 'cat', 'deer', 'dog', 'frog', 'horse', 'ship', 'truck']\n",
        "    \n",
        "    opt.cifar_type = len(labels)\n",
        "    trainset = CIFARN(root=dataroot + '/cifar10', labels=labels, train=True, download=True, transform=transform)\n",
        "    testset = CIFARN(root=dataroot + '/cifar10', labels=labels,  train=False, download=True, transform=transform_test)\n",
        "\n",
        "\n",
        "gc.collect()\n",
        "torch.cuda.empty_cache()\n",
        "\n",
        "# initialise data loaders\n",
        "trainloader = DataLoader(trainset, batch_size=opt.batch_size, shuffle=True, num_workers=2, drop_last=True)\n",
        "testloader = DataLoader(testset, batch_size=opt.batch_size, shuffle=False, num_workers=2)\n",
        "\n",
        "netS = netChoice(opt)\n",
        "\n",
        "bayes_accountant = BayesianPrivacyAccountant(powers=opt.power, total_steps=opt.epochs * len(trainloader))\n",
        "netS, accs = train(trainloader, testloader, netS, opt, accountant=bayes_accountant)"
      ],
      "metadata": {
        "colab": {
          "base_uri": "https://localhost:8080/"
        },
        "id": "rEf_cZwd3DHo",
        "outputId": "68fd0ee3-91de-4b20-948e-415f768e64b7"
      },
      "execution_count": null,
      "outputs": [
        {
          "output_type": "stream",
          "name": "stdout",
          "text": [
            "Files already downloaded and verified\n",
            "Files already downloaded and verified\n"
          ]
        },
        {
          "output_type": "stream",
          "name": "stderr",
          "text": [
            "  0%|          | 0/30 [00:30<?, ?it/s, Acc=0, loss=0.219, p={'(𝜀,𝛿)': (0.3923249100879337, 1e-05)}]"
          ]
        }
      ]
    },
    {
      "cell_type": "code",
      "execution_count": 37,
      "metadata": {
        "id": "xCQ9G7B1xRCG",
        "colab": {
          "base_uri": "https://localhost:8080/"
        },
        "outputId": "1a023b72-b87f-40ae-d48f-e74505c227d9"
      },
      "outputs": [
        {
          "output_type": "stream",
          "name": "stdout",
          "text": [
            "Epsilon =  (0.7447993880490552, 1e-10)\n"
          ]
        }
      ],
      "source": [
        "print(\"Epsilon = \", bayes_accountant.get_privacy(target_delta=1e-10))"
      ]
    },
    {
      "cell_type": "code",
      "execution_count": 38,
      "metadata": {
        "id": "kNlEq1qBxRCH"
      },
      "outputs": [],
      "source": [
        "def make_dists(netS, data_loader, loss_fn, nb_sample = 10, num_subbatch = 100):\n",
        "    netS.to(device)\n",
        "    loss_fn.to(device)\n",
        "    dists = []\n",
        "    with tqdm(trainloader) as t:\n",
        "      for i, (inputs, labels) in enumerate(t):\n",
        "        if i > nb_sample:\n",
        "            break\n",
        "        inputs = inputs.to(device)\n",
        "        labels = labels.to(device)\n",
        "        netS.zero_grad()\n",
        "        outputs = netS(inputs)\n",
        "        loss = loss_fn(outputs, labels)\n",
        "        batch_size = float(len(inputs))\n",
        "\n",
        "        grads_est = []\n",
        "        for j in range(num_subbatch):\n",
        "            grad_sample = torch.autograd.grad(loss[np.delete(range(int(batch_size)), j)].mean(), [p for p in netS.parameters() if p.requires_grad], retain_graph=True)\n",
        "            with torch.no_grad():\n",
        "                grad_sample = torch.cat([g.view(-1) for g in grad_sample])\n",
        "                grad_sample /= max(1.0, grad_sample.norm().item() / opt.C)\n",
        "                grads_est += [grad_sample]\n",
        "        with torch.no_grad():\n",
        "            grads_est = torch.stack(grads_est)\n",
        "            #sparsify_update(grads_est, p=sampling_prob, use_grad_field=False)\n",
        "        #q = batch_size / len(trainloader.dataset)\n",
        "        dists += [pdist(grads_est.cpu())]\n",
        "    return dists"
      ]
    },
    {
      "cell_type": "code",
      "source": [
        "def make_hist(dists_list, label_list, xlabel, ylabel, title, save=True):\n",
        "    for dists, label in zip(dists_list, label_list):\n",
        "        plt.hist(dists.flatten(), bins=np.arange(0, 0.2, 0.005), label=label, alpha=0.5)\n",
        "    plt.legend()\n",
        "    plt.xlabel(xlabel)\n",
        "    plt.ylabel(ylabel)\n",
        "    plt.title(title)\n",
        "    if save:\n",
        "        plt.savefig(title+'.pdf', format='pdf', bbox_inches='tight')"
      ],
      "metadata": {
        "id": "PtkVEBko3F0g"
      },
      "execution_count": 39,
      "outputs": []
    },
    {
      "cell_type": "code",
      "execution_count": 40,
      "metadata": {
        "id": "Y8__BRGOxRCI",
        "colab": {
          "base_uri": "https://localhost:8080/",
          "height": 419
        },
        "outputId": "b74c6e62-2d51-4ff6-b833-05d5e23d9597"
      },
      "outputs": [
        {
          "output_type": "stream",
          "name": "stderr",
          "text": [
            "  3%|▎         | 1/39 [00:42<27:02, 42.69s/it]\n"
          ]
        },
        {
          "output_type": "error",
          "ename": "KeyboardInterrupt",
          "evalue": "ignored",
          "traceback": [
            "\u001b[0;31m---------------------------------------------------------------------------\u001b[0m",
            "\u001b[0;31mKeyboardInterrupt\u001b[0m                         Traceback (most recent call last)",
            "\u001b[0;32m<ipython-input-40-5600bf5aacc9>\u001b[0m in \u001b[0;36m<module>\u001b[0;34m\u001b[0m\n\u001b[1;32m      1\u001b[0m \u001b[0mloss_fn\u001b[0m \u001b[0;34m=\u001b[0m \u001b[0mnn\u001b[0m\u001b[0;34m.\u001b[0m\u001b[0mCrossEntropyLoss\u001b[0m\u001b[0;34m(\u001b[0m\u001b[0mreduction\u001b[0m\u001b[0;34m=\u001b[0m\u001b[0;34m'none'\u001b[0m\u001b[0;34m)\u001b[0m\u001b[0;34m\u001b[0m\u001b[0;34m\u001b[0m\u001b[0m\n\u001b[1;32m      2\u001b[0m \u001b[0;34m\u001b[0m\u001b[0m\n\u001b[0;32m----> 3\u001b[0;31m \u001b[0mdists_train\u001b[0m \u001b[0;34m=\u001b[0m \u001b[0mmake_dists\u001b[0m\u001b[0;34m(\u001b[0m\u001b[0mnetS\u001b[0m\u001b[0;34m,\u001b[0m \u001b[0mtrainloader\u001b[0m\u001b[0;34m,\u001b[0m \u001b[0mloss_fn\u001b[0m\u001b[0;34m)\u001b[0m\u001b[0;34m\u001b[0m\u001b[0;34m\u001b[0m\u001b[0m\n\u001b[0m\u001b[1;32m      4\u001b[0m \u001b[0mdists_test\u001b[0m \u001b[0;34m=\u001b[0m \u001b[0mmake_dists\u001b[0m\u001b[0;34m(\u001b[0m\u001b[0mnetS\u001b[0m\u001b[0;34m,\u001b[0m \u001b[0mtestloader\u001b[0m\u001b[0;34m,\u001b[0m \u001b[0mloss_fn\u001b[0m\u001b[0;34m)\u001b[0m\u001b[0;34m\u001b[0m\u001b[0;34m\u001b[0m\u001b[0m\n\u001b[1;32m      5\u001b[0m \u001b[0;34m\u001b[0m\u001b[0m\n",
            "\u001b[0;32m<ipython-input-38-68413369c884>\u001b[0m in \u001b[0;36mmake_dists\u001b[0;34m(netS, data_loader, loss_fn, nb_sample, num_subbatch)\u001b[0m\n\u001b[1;32m     25\u001b[0m             \u001b[0;31m#sparsify_update(grads_est, p=sampling_prob, use_grad_field=False)\u001b[0m\u001b[0;34m\u001b[0m\u001b[0;34m\u001b[0m\u001b[0m\n\u001b[1;32m     26\u001b[0m         \u001b[0;31m#q = batch_size / len(trainloader.dataset)\u001b[0m\u001b[0;34m\u001b[0m\u001b[0;34m\u001b[0m\u001b[0m\n\u001b[0;32m---> 27\u001b[0;31m         \u001b[0mdists\u001b[0m \u001b[0;34m+=\u001b[0m \u001b[0;34m[\u001b[0m\u001b[0mpdist\u001b[0m\u001b[0;34m(\u001b[0m\u001b[0mgrads_est\u001b[0m\u001b[0;34m.\u001b[0m\u001b[0mcpu\u001b[0m\u001b[0;34m(\u001b[0m\u001b[0;34m)\u001b[0m\u001b[0;34m)\u001b[0m\u001b[0;34m]\u001b[0m\u001b[0;34m\u001b[0m\u001b[0;34m\u001b[0m\u001b[0m\n\u001b[0m\u001b[1;32m     28\u001b[0m     \u001b[0;32mreturn\u001b[0m \u001b[0mdists\u001b[0m\u001b[0;34m\u001b[0m\u001b[0;34m\u001b[0m\u001b[0m\n",
            "\u001b[0;32m/usr/local/lib/python3.9/dist-packages/scipy/spatial/distance.py\u001b[0m in \u001b[0;36mpdist\u001b[0;34m(X, metric, out, **kwargs)\u001b[0m\n\u001b[1;32m   2240\u001b[0m         \u001b[0;32mif\u001b[0m \u001b[0mmetric_info\u001b[0m \u001b[0;32mis\u001b[0m \u001b[0;32mnot\u001b[0m \u001b[0;32mNone\u001b[0m\u001b[0;34m:\u001b[0m\u001b[0;34m\u001b[0m\u001b[0;34m\u001b[0m\u001b[0m\n\u001b[1;32m   2241\u001b[0m             \u001b[0mpdist_fn\u001b[0m \u001b[0;34m=\u001b[0m \u001b[0mmetric_info\u001b[0m\u001b[0;34m.\u001b[0m\u001b[0mpdist_func\u001b[0m\u001b[0;34m\u001b[0m\u001b[0;34m\u001b[0m\u001b[0m\n\u001b[0;32m-> 2242\u001b[0;31m             \u001b[0;32mreturn\u001b[0m \u001b[0mpdist_fn\u001b[0m\u001b[0;34m(\u001b[0m\u001b[0mX\u001b[0m\u001b[0;34m,\u001b[0m \u001b[0mout\u001b[0m\u001b[0;34m=\u001b[0m\u001b[0mout\u001b[0m\u001b[0;34m,\u001b[0m \u001b[0;34m**\u001b[0m\u001b[0mkwargs\u001b[0m\u001b[0;34m)\u001b[0m\u001b[0;34m\u001b[0m\u001b[0;34m\u001b[0m\u001b[0m\n\u001b[0m\u001b[1;32m   2243\u001b[0m         \u001b[0;32melif\u001b[0m \u001b[0mmstr\u001b[0m\u001b[0;34m.\u001b[0m\u001b[0mstartswith\u001b[0m\u001b[0;34m(\u001b[0m\u001b[0;34m\"test_\"\u001b[0m\u001b[0;34m)\u001b[0m\u001b[0;34m:\u001b[0m\u001b[0;34m\u001b[0m\u001b[0;34m\u001b[0m\u001b[0m\n\u001b[1;32m   2244\u001b[0m             \u001b[0mmetric_info\u001b[0m \u001b[0;34m=\u001b[0m \u001b[0m_TEST_METRICS\u001b[0m\u001b[0;34m.\u001b[0m\u001b[0mget\u001b[0m\u001b[0;34m(\u001b[0m\u001b[0mmstr\u001b[0m\u001b[0;34m,\u001b[0m \u001b[0;32mNone\u001b[0m\u001b[0;34m)\u001b[0m\u001b[0;34m\u001b[0m\u001b[0;34m\u001b[0m\u001b[0m\n",
            "\u001b[0;31mKeyboardInterrupt\u001b[0m: "
          ]
        }
      ],
      "source": [
        "loss_fn = nn.CrossEntropyLoss(reduction='none')\n",
        "\n",
        "dists_train = make_dists(netS, trainloader, loss_fn)\n",
        "dists_test = make_dists(netS, testloader, loss_fn)\n",
        "\n",
        "dists_train = np.stack(dists_train).squeeze()\n",
        "dists_test = np.stack(dists_test).squeeze()\n",
        "\n",
        "make_hist([dists_train, dists_test], ['Train', 'Test'], r'Distance', r'Number of samples',\n",
        "          r'Pairwise gradient distances distribution, CIFAR10')"
      ]
    },
    {
      "cell_type": "code",
      "execution_count": 95,
      "metadata": {
        "id": "hYPubEJ_xRCI",
        "colab": {
          "base_uri": "https://localhost:8080/"
        },
        "outputId": "279d494e-ad17-47d8-b5d8-ff494498670e"
      },
      "outputs": [
        {
          "output_type": "stream",
          "name": "stdout",
          "text": [
            "TtestResult(statistic=-22.158527696726015, pvalue=2.6058602983252642e-108, df=54449)\n",
            "Ttest_indResult(statistic=-22.407154125698195, pvalue=5.982010519684847e-111)\n",
            "LeveneResult(statistic=46.08026711288705, pvalue=1.1408437045644503e-11)\n"
          ]
        }
      ],
      "source": [
        "print(ttest_rel(dists_train.flatten(), dists_test.flatten()))\n",
        "print(ttest_ind(dists_train.flatten(), dists_test.flatten()))\n",
        "print(levene(dists_train.flatten(), dists_test.flatten()))"
      ]
    },
    {
      "cell_type": "code",
      "execution_count": 41,
      "metadata": {
        "id": "rIuX4e5zxRCI"
      },
      "outputs": [],
      "source": [
        "class_definition = {0: 'airplane', 1: 'automobile', 2: 'bird', 3: 'cat', \n",
        "                    4: 'deer', 5: 'dog', 6: 'frog', 7: 'horse', 8: 'ship', \n",
        "                    9: 'truck'}\n",
        "\n",
        "from matplotlib.colors import to_hex\n",
        "\n",
        "# definition of the scatterplot\n",
        "def make_scatterplot(X, y, feature1=None, feature2=None, \n",
        "                     class_indices=None, class_definition=None):\n",
        "    if class_indices is None:\n",
        "        class_indices = np.unique(y)\n",
        "    if class_definition is None:\n",
        "        class_definition = dict(zip(class_indices, [str(i) for i in class_indices]))\n",
        "    if feature1 is None:\n",
        "      feature1 = 'Component 1'\n",
        "    if feature2 is None:\n",
        "      feature2 = 'Component 2'\n",
        "\n",
        "    # colors\n",
        "    colors = plt.cm.get_cmap('tab10', 10).colors[:,:3]\n",
        "\n",
        "    fig = plt.figure(figsize = (8,8))\n",
        "    ax = fig.add_subplot(1,1,1) \n",
        "    ax.set_xlabel(feature1)\n",
        "    ax.set_ylabel(feature2)\n",
        "    ax.set_title('Scatter plot: %s vs. %s' % (feature2, feature1))\n",
        "\n",
        "    comp1 = X[:,0]\n",
        "    comp2 = X[:,1]\n",
        "    for class_index in class_indices:\n",
        "        class_label = class_definition[class_index]\n",
        "        ax.scatter(comp1[y==class_index],\n",
        "                   comp2[y==class_index],\n",
        "                   c=to_hex(colors[class_index]),\n",
        "                   label=class_label,\n",
        "                   s=15)\n",
        "    ax.legend()\n",
        "    ax.grid()"
      ]
    },
    {
      "cell_type": "code",
      "source": [
        "print(netS)"
      ],
      "metadata": {
        "id": "ljU_UoqBzIRa",
        "outputId": "25c527bf-9608-40f3-eac1-0e56b0fa2dbd",
        "colab": {
          "base_uri": "https://localhost:8080/"
        }
      },
      "execution_count": 122,
      "outputs": [
        {
          "output_type": "stream",
          "name": "stdout",
          "text": [
            "VGG(\n",
            "  (features): Sequential(\n",
            "    (0): Conv2d(3, 64, kernel_size=(3, 3), stride=(1, 1), padding=(1, 1))\n",
            "    (1): ReLU(inplace=True)\n",
            "    (2): Conv2d(64, 64, kernel_size=(3, 3), stride=(1, 1), padding=(1, 1))\n",
            "    (3): ReLU(inplace=True)\n",
            "    (4): MaxPool2d(kernel_size=2, stride=2, padding=0, dilation=1, ceil_mode=False)\n",
            "    (5): Conv2d(64, 128, kernel_size=(3, 3), stride=(1, 1), padding=(1, 1))\n",
            "    (6): ReLU(inplace=True)\n",
            "    (7): Conv2d(128, 128, kernel_size=(3, 3), stride=(1, 1), padding=(1, 1))\n",
            "    (8): ReLU(inplace=True)\n",
            "    (9): MaxPool2d(kernel_size=2, stride=2, padding=0, dilation=1, ceil_mode=False)\n",
            "    (10): Conv2d(128, 256, kernel_size=(3, 3), stride=(1, 1), padding=(1, 1))\n",
            "    (11): ReLU(inplace=True)\n",
            "    (12): Conv2d(256, 256, kernel_size=(3, 3), stride=(1, 1), padding=(1, 1))\n",
            "    (13): ReLU(inplace=True)\n",
            "    (14): Conv2d(256, 256, kernel_size=(3, 3), stride=(1, 1), padding=(1, 1))\n",
            "    (15): ReLU(inplace=True)\n",
            "    (16): MaxPool2d(kernel_size=2, stride=2, padding=0, dilation=1, ceil_mode=False)\n",
            "    (17): Conv2d(256, 512, kernel_size=(3, 3), stride=(1, 1), padding=(1, 1))\n",
            "    (18): ReLU(inplace=True)\n",
            "    (19): Conv2d(512, 512, kernel_size=(3, 3), stride=(1, 1), padding=(1, 1))\n",
            "    (20): ReLU(inplace=True)\n",
            "    (21): Conv2d(512, 512, kernel_size=(3, 3), stride=(1, 1), padding=(1, 1))\n",
            "    (22): ReLU(inplace=True)\n",
            "    (23): MaxPool2d(kernel_size=2, stride=2, padding=0, dilation=1, ceil_mode=False)\n",
            "    (24): Conv2d(512, 512, kernel_size=(3, 3), stride=(1, 1), padding=(1, 1))\n",
            "    (25): ReLU(inplace=True)\n",
            "    (26): Conv2d(512, 512, kernel_size=(3, 3), stride=(1, 1), padding=(1, 1))\n",
            "    (27): ReLU(inplace=True)\n",
            "    (28): Conv2d(512, 512, kernel_size=(3, 3), stride=(1, 1), padding=(1, 1))\n",
            "    (29): ReLU(inplace=True)\n",
            "    (30): MaxPool2d(kernel_size=2, stride=2, padding=0, dilation=1, ceil_mode=False)\n",
            "  )\n",
            "  (avgpool): AdaptiveAvgPool2d(output_size=(7, 7))\n",
            "  (classifier): Sequential(\n",
            "    (0): Linear(in_features=25088, out_features=4096, bias=True)\n",
            "    (1): ReLU(inplace=True)\n",
            "    (2): Dropout(p=0.5, inplace=False)\n",
            "    (3): Linear(in_features=4096, out_features=4096, bias=True)\n",
            "    (4): ReLU(inplace=True)\n",
            "    (5): Dropout(p=0.5, inplace=False)\n",
            "    (6): Linear(in_features=4096, out_features=6, bias=True)\n",
            "  )\n",
            ")\n"
          ]
        }
      ]
    },
    {
      "cell_type": "code",
      "source": [
        "convNetS = netS.features\n",
        "avg = netS.avgpool\n",
        "classNetS = netS.classifier[:-3]"
      ],
      "metadata": {
        "id": "J4iiiOpZvYMj"
      },
      "execution_count": 42,
      "outputs": []
    },
    {
      "cell_type": "code",
      "source": [
        "from sklearn.manifold import TSNE\n",
        "\n",
        "for x, y in trainloader:\n",
        "    features = convNetS(x.to(device)).view(opt.batch_size, -1)\n",
        "    X_embedded = TSNE(n_components=2, perplexity=5).fit_transform(features.cpu().detach().numpy())\n",
        "    make_scatterplot(X_embedded, y.flatten(), class_definition=class_definition)\n",
        "\n",
        "\n",
        "    features = netS(x.to(device)).view(opt.batch_size, -1)\n",
        "    X_embedded = TSNE(n_components=2, perplexity=5).fit_transform(features.cpu().detach().numpy() )\n",
        "    make_scatterplot(X_embedded, y.flatten(), class_definition=class_definition)\n",
        "    break"
      ],
      "metadata": {
        "id": "vuO28GyOu-xB",
        "outputId": "12d1170f-caef-4ec0-ce5d-765ea54c0c25",
        "colab": {
          "base_uri": "https://localhost:8080/",
          "height": 1000
        }
      },
      "execution_count": 43,
      "outputs": [
        {
          "output_type": "stream",
          "name": "stderr",
          "text": [
            "<ipython-input-41-2047610a6f3f>:20: MatplotlibDeprecationWarning: The get_cmap function was deprecated in Matplotlib 3.7 and will be removed two minor releases later. Use ``matplotlib.colormaps[name]`` or ``matplotlib.colormaps.get_cmap(obj)`` instead.\n",
            "  colors = plt.cm.get_cmap('tab10', 10).colors[:,:3]\n",
            "<ipython-input-41-2047610a6f3f>:20: MatplotlibDeprecationWarning: The get_cmap function was deprecated in Matplotlib 3.7 and will be removed two minor releases later. Use ``matplotlib.colormaps[name]`` or ``matplotlib.colormaps.get_cmap(obj)`` instead.\n",
            "  colors = plt.cm.get_cmap('tab10', 10).colors[:,:3]\n"
          ]
        },
        {
          "output_type": "display_data",
          "data": {
            "text/plain": [
              "<Figure size 576x576 with 1 Axes>"
            ],
            "image/png": "[encoded data removed]"
          },
          "metadata": {
            "needs_background": "light"
          }
        },
        {
          "output_type": "display_data",
          "data": {
            "text/plain": [
              "<Figure size 576x576 with 1 Axes>"
            ],
            "image/png": "[encoded data removed]"
          },
          "metadata": {
            "needs_background": "light"
          }
        }
      ]
    }
  ],
  "metadata": {
    "colab": {
      "provenance": []
    },
    "kernelspec": {
      "display_name": "Python 3",
      "language": "python",
      "name": "python3"
    },
    "language_info": {
      "codemirror_mode": {
        "name": "ipython",
        "version": 3
      },
      "file_extension": ".py",
      "mimetype": "text/x-python",
      "name": "python",
      "nbconvert_exporter": "python",
      "pygments_lexer": "ipython3",
      "version": "3.6.9"
    },
    "accelerator": "GPU",
    "gpuClass": "standard"
  },
  "nbformat": 4,
  "nbformat_minor": 0
}